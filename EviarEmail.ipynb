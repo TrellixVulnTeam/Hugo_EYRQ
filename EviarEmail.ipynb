{
 "cells": [
  {
   "cell_type": "code",
   "execution_count": 1,
   "metadata": {},
   "outputs": [],
   "source": [
    "import pandas as pd\n",
    "import smtplib\n",
    "from pathlib import Path\n",
    "import os\n",
    "from email.message import EmailMessage"
   ]
  },
  {
   "cell_type": "code",
   "execution_count": 30,
   "metadata": {},
   "outputs": [],
   "source": [
    "def EnviarEmail(destino, assunto, mensagem):\n",
    "    server = smtplib.SMTP('smtp.gmail.com: 587')\n",
    "    server.starttls()\n",
    "    server.login('NotaFiscal@unicacontabil.com', 'nfunica123')\n",
    "\n",
    "    email= EmailMessage()\n",
    "    email['From'] = 'NotaFiscal@unicacontabil.com'\n",
    "    email['To'] = destino\n",
    "    #email['To'] = 'evelyn@unicacontabil.com'\n",
    "    email['Cc'] = 'fiscal@unicacontabil.com; evelyn@unicacontabil.com'\n",
    "    email['Subject'] = assunto\n",
    "\n",
    "    email.set_content(mensagem)\n",
    "\n",
    "    server.send_message(email)\n",
    "    print('E-mail para {} enviado com sucesso!' .format(destino))"
   ]
  },
  {
   "cell_type": "code",
   "execution_count": 31,
   "metadata": {},
   "outputs": [],
   "source": [
    "path_download = os.path.join(Path.home(), \"Downloads\")\n",
    "\n",
    "# arq = 'C:/Users/Henrique/Downloads/ALÍQUOTAS MENSAIS.xlsx'\n",
    "arq = os.path.join(path_download, 'ALÍQUOTAS MENSAIS.xlsx')\n",
    "\n",
    "\n",
    "df = pd.read_excel(arq, header=2)\n",
    "df2 = df.query(\"OBSERVAÇÕES != 'NÃO ENVIAR POR E-MAIL'\").iloc[:, 0:29]\n",
    "df2.set_index('CNPJ', inplace=True)"
   ]
  },
  {
   "cell_type": "code",
   "execution_count": 32,
   "metadata": {},
   "outputs": [],
   "source": [
    "#Empresas Unicas\n",
    "campos = \"EMPRESA;EMAIL 01\".split(';')\n",
    "df3 = df2[campos].drop_duplicates(keep=\"first\")"
   ]
  },
  {
   "cell_type": "code",
   "execution_count": 33,
   "metadata": {},
   "outputs": [],
   "source": [
    "#Dicionarios Auxiliares\n",
    "dMeses = {\n",
    "    1:  ['Janeiro',     [1,3,4]],\n",
    "    2:  ['Fevereiro',   [1,5,6]],\n",
    "    3:  ['Março',       [1,7,8]],\n",
    "    4:  ['Abril',       [1,9,10]],\n",
    "    5:  ['Maio',        [1,11,12]],\n",
    "    6:  ['Junho',       [1,13,14]],\n",
    "    7:  ['Julho',       [1,15,16]],\n",
    "    8:  ['Agosto',      [1,17,18]],\n",
    "    9:  ['Setembro',    [1,19,20]],\n",
    "    10: ['Outubro',     [1,21,22]],\n",
    "    11: ['Novembro',    [1,23,24]],\n",
    "    12: ['Dezembro',    [1,25,26]],\n",
    "}\n",
    "\n",
    "d = {\n",
    "    'ANEXO 1' : ['Comércio', 'Alíquota ICMS: '],\n",
    "    'ANEXO 2' : ['Industria', 'Alíquota ICMS: '],\n",
    "    'ANEXO 3' : ['Serviço (III)', 'Alíquota ISS: '],\n",
    "    'ANEXO 4' : ['Serviço (IV)', 'Alíquota ISS: '],\n",
    "    'ANEXO 5' : ['Serviço (V)', 'Alíquota ISS: '],\n",
    "    'FATOR R' : ['Serviço', 'Alíquota ISS: ']\n",
    "}"
   ]
  },
  {
   "cell_type": "code",
   "execution_count": 34,
   "metadata": {},
   "outputs": [
    {
     "name": "stdout",
     "output_type": "stream",
     "text": [
      "ID: 1 - Mes: Janeiro\n",
      "ID: 2 - Mes: Fevereiro\n",
      "ID: 3 - Mes: Março\n",
      "ID: 4 - Mes: Abril\n",
      "ID: 5 - Mes: Maio\n",
      "ID: 6 - Mes: Junho\n",
      "ID: 7 - Mes: Julho\n",
      "ID: 8 - Mes: Agosto\n",
      "ID: 9 - Mes: Setembro\n",
      "ID: 10 - Mes: Outubro\n",
      "ID: 11 - Mes: Novembro\n",
      "ID: 12 - Mes: Dezembro\n",
      "Julho / [1, 15, 16]\n"
     ]
    }
   ],
   "source": [
    "# Main\n",
    "for x,y in dMeses.items():\n",
    "    print('ID: {} - Mes: {}' .format(x, y[0]))\n",
    "\n",
    "mes = None\n",
    "while mes is None:\n",
    "    try:\n",
    "        iMes = input('Digite o ID do mes selecionado: ')\n",
    "        mes = dMeses[int(iMes)][0]\n",
    "        cols = dMeses[int(iMes)][1]\n",
    "    except:\n",
    "        pass\n",
    "print('{} / {}' .format(mes, cols) )\n",
    "#Seleciona qual mes sera enviado o Email\n",
    "df4 = df2.iloc[:,cols]"
   ]
  },
  {
   "cell_type": "code",
   "execution_count": 35,
   "metadata": {},
   "outputs": [],
   "source": [
    "selecao = df3['EMAIL 01'].isnull()\n",
    "# df3[selecao]\n",
    "\n",
    "df3 = df3[~selecao]\n",
    "df3[\"EMAIL 01\"].replace(',' , ';' , regex=True, inplace=True)"
   ]
  },
  {
   "cell_type": "code",
   "execution_count": 28,
   "metadata": {},
   "outputs": [
    {
     "data": {
      "text/html": [
       "<div>\n",
       "<style scoped>\n",
       "    .dataframe tbody tr th:only-of-type {\n",
       "        vertical-align: middle;\n",
       "    }\n",
       "\n",
       "    .dataframe tbody tr th {\n",
       "        vertical-align: top;\n",
       "    }\n",
       "\n",
       "    .dataframe thead th {\n",
       "        text-align: right;\n",
       "    }\n",
       "</style>\n",
       "<table border=\"1\" class=\"dataframe\">\n",
       "  <thead>\n",
       "    <tr style=\"text-align: right;\">\n",
       "      <th></th>\n",
       "      <th>EMPRESA</th>\n",
       "      <th>EMAIL 01</th>\n",
       "    </tr>\n",
       "    <tr>\n",
       "      <th>CNPJ</th>\n",
       "      <th></th>\n",
       "      <th></th>\n",
       "    </tr>\n",
       "  </thead>\n",
       "  <tbody>\n",
       "    <tr>\n",
       "      <th>2.816376e+12</th>\n",
       "      <td>ACF MARISTA LTDA</td>\n",
       "      <td>acfmarista@uol.com.br; rogeriorosacosta@gmail.com</td>\n",
       "    </tr>\n",
       "    <tr>\n",
       "      <th>1.485999e+13</th>\n",
       "      <td>BIZ CENTER LTDA</td>\n",
       "      <td>euripedes@bizcenter.com.br; comercial@bizcente...</td>\n",
       "    </tr>\n",
       "    <tr>\n",
       "      <th>2.666956e+13</th>\n",
       "      <td>BIOMEDIC LABORATORIO DE ANALISES CLINICAS LTDA</td>\n",
       "      <td>admlabnsaparecida@outlook.com; labbiomedic@hot...</td>\n",
       "    </tr>\n",
       "  </tbody>\n",
       "</table>\n",
       "</div>"
      ],
      "text/plain": [
       "                                                     EMPRESA  \\\n",
       "CNPJ                                                           \n",
       "2.816376e+12                                ACF MARISTA LTDA   \n",
       "1.485999e+13                                 BIZ CENTER LTDA   \n",
       "2.666956e+13  BIOMEDIC LABORATORIO DE ANALISES CLINICAS LTDA   \n",
       "\n",
       "                                                       EMAIL 01  \n",
       "CNPJ                                                             \n",
       "2.816376e+12  acfmarista@uol.com.br; rogeriorosacosta@gmail.com  \n",
       "1.485999e+13  euripedes@bizcenter.com.br; comercial@bizcente...  \n",
       "2.666956e+13  admlabnsaparecida@outlook.com; labbiomedic@hot...  "
      ]
     },
     "execution_count": 28,
     "metadata": {},
     "output_type": "execute_result"
    }
   ],
   "source": [
    "# df4.info()\n",
    "df3"
   ]
  },
  {
   "cell_type": "code",
   "execution_count": 36,
   "metadata": {},
   "outputs": [
    {
     "name": "stdout",
     "output_type": "stream",
     "text": [
      "E-mail para acfmarista@uol.com.br; rogeriorosacosta@gmail.com enviado com sucesso!\n",
      "E-mail para euripedes@bizcenter.com.br; comercial@bizcenter.com.br enviado com sucesso!\n",
      "E-mail para admlabnsaparecida@outlook.com; labbiomedic@hotmail.com enviado com sucesso!\n",
      "E-mail para agencia84@gmail.com enviado com sucesso!\n",
      "E-mail para radiogyn@uol.com.br enviado com sucesso!\n",
      "E-mail para g_scartezini@yahoo.com.br enviado com sucesso!\n",
      "E-mail para alexandro@amgcorp.com.br; alexandroolima@gmail.com enviado com sucesso!\n",
      "E-mail para financeiro@termosularcondicionado.com.br; termosul@gmail.com enviado com sucesso!\n",
      "E-mail para financeiro@multiodontogo.com.br; mkt_rh@multiodontogo.com.br enviado com sucesso!\n",
      "E-mail para drdanielitikawa@gmail.com enviado com sucesso!\n",
      "E-mail para simone@admiralservicos.com.br enviado com sucesso!\n",
      "E-mail para simone@admiralservicos.com.br enviado com sucesso!\n",
      "E-mail para financeirobrgaap@gmail.com enviado com sucesso!\n",
      "E-mail para odontoespatheneu@gmail.com; fhenriquef123@gmail.com enviado com sucesso!\n",
      "E-mail para beneditoac@hotmail.com enviado com sucesso!\n",
      "E-mail para pardalfma@gmail.com enviado com sucesso!\n",
      "E-mail para livia@livodontologiaestetica.com.br enviado com sucesso!\n",
      "E-mail para marcia.pinheiro@orgbc.com.br enviado com sucesso!\n",
      "E-mail para marcia.pinheiro@orgbc.com.br enviado com sucesso!\n",
      "E-mail para administrativo@setmaierengenharia.com.br; rafael.jesus@setmaierengenharia.com.br; rafael@setmaierengenharia.com.br enviado com sucesso!\n",
      "E-mail para contato@claudiasena.com enviado com sucesso!\n",
      "E-mail para secretaria@fpinheiro.adv.br enviado com sucesso!\n",
      "E-mail para marcia@termosulengenharia.com; carol@termosulengenharia.com enviado com sucesso!\n",
      "E-mail para financeiroodontoportugal@gmail.com; dralumeirelles@hotmail.com enviado com sucesso!\n",
      "E-mail para leonardo@fortini.adv.br enviado com sucesso!\n",
      "E-mail para coeadm99@gmail.com enviado com sucesso!\n",
      "E-mail para faturamento@inovaco.ind.br enviado com sucesso!\n",
      "E-mail para sarah.lobo.lima@gmail.com enviado com sucesso!\n",
      "E-mail para sarah.lobo.lima@gmail.com enviado com sucesso!\n",
      "E-mail para ricardo@mandra.com.br enviado com sucesso!\n"
     ]
    }
   ],
   "source": [
    "ano = 2022\n",
    "msgHead = \"\"\"\n",
    "Bom Dia,\n",
    "\n",
    "Segue abaixo a alíquota do mês de {}/{}.\n",
    "\"\"\" .format(mes, ano)\n",
    "\n",
    "msgFooter = \"\"\"\n",
    "\n",
    "\n",
    "Atenciosamente;\n",
    "\n",
    "Única Contábil\n",
    "Departamento Fiscal\n",
    "(62) 3212-1200 | (62) 98228-0118 \n",
    "\"\"\"   \n",
    "\n",
    "# path = \"C:/Temp/Unica/\"\n",
    "#Loop\n",
    "for index, row1 in df3.iterrows(): \n",
    "    dfTemp = df4[(df4.index == index)]\n",
    "\n",
    "    Title = 'ALÍQUOTA MENSAL ({}/{}) - ' .format(mes, ano) + row1[\"EMPRESA\"] \n",
    "    EmailList = row1['EMAIL 01'] \n",
    "\n",
    "    msgBody = \"\"\n",
    "    for index, row in dfTemp.iterrows(): \n",
    "        msgBody = msgBody + \"\\n\"\n",
    "        msgBody = msgBody + d[row['ANEXO SIMPLES']][0] + \"\\n\"\n",
    "        msgBody = msgBody + d[row['ANEXO SIMPLES']][1] + '{0:.2f}%'.format(row.iloc[1]*100) + \"\\n\"\n",
    "        msgBody = msgBody + 'Alíquota efetiva total: ' '{0:.2f}%'.format(row.iloc[2]*100) + \"\\n\" \n",
    "\n",
    "    msgBody = msgBody.replace(\".\", \",\")\n",
    "\n",
    "    #Inicia o procedimento de envio de email\n",
    "    msg = msgHead + msgBody + msgFooter\n",
    "    EnviarEmail(EmailList, Title, msg)\n",
    "\n",
    "    # Gravar .txt \n",
    "    # f = open(path + row1[\"EMPRESA\"] +\".txt\", \"x\")\n",
    "    # f.write(Title)\n",
    "    # f.write(EmailList)\n",
    "\n",
    "    # f.write(msg)\n",
    "    # f.close()\n",
    "\n"
   ]
  }
 ],
 "metadata": {
  "kernelspec": {
   "display_name": "Python 3.8.10 ('venv': venv)",
   "language": "python",
   "name": "python3"
  },
  "language_info": {
   "codemirror_mode": {
    "name": "ipython",
    "version": 3
   },
   "file_extension": ".py",
   "mimetype": "text/x-python",
   "name": "python",
   "nbconvert_exporter": "python",
   "pygments_lexer": "ipython3",
   "version": "3.8.10"
  },
  "orig_nbformat": 4,
  "vscode": {
   "interpreter": {
    "hash": "842fe7d7e9e6da95bd0d68482ff65a7c76039201f99dd68e698001e563135c7c"
   }
  }
 },
 "nbformat": 4,
 "nbformat_minor": 2
}
