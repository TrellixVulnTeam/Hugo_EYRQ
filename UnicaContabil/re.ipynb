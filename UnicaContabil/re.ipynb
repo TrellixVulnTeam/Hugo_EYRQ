{
 "cells": [
  {
   "cell_type": "code",
   "execution_count": 41,
   "metadata": {},
   "outputs": [],
   "source": [
    "# Expressões Regulares\n",
    "# https://www.youtube.com/watch?v=mdv-gGAzuHA&list=PLbIBj8vQhvm1VnTa2Np5vDzCxVtyaYLMr&index=5\n",
    "import re"
   ]
  },
  {
   "cell_type": "code",
   "execution_count": null,
   "metadata": {},
   "outputs": [],
   "source": [
    "# Metacaracteres\n",
    "\n",
    "# | >>> OU\n",
    "# . >>> Qualquer Caracter que não seja quebra de linha   \\. Caracter .\n",
    "# [] >>> Conjunto de Caracteres\n",
    "\n",
    "# ^ >>> Começa com\n",
    "# $ >>> Termina com\n",
    "\n",
    "# [^a-z] >>> Negação, tudo que não for letra minuscula\n",
    "\n",
    "# Quantificadores\n",
    "# * >>> 0 ou n                  guloso\n",
    "# + >>> 1 ou n                  guloso\n",
    "# ? >>> 0 ou 1                  não guloso\n",
    "# {n} ou {min, max}\n",
    "\n",
    "# Grupos\n",
    "# ( ) >>> Salvos na memoria e são acessados pelos retrovisores \\1 \\2 de acordo com a abertura dos (\n",
    "    # ?: Indica para não gravar o grupo na memoria\n"
   ]
  },
  {
   "cell_type": "code",
   "execution_count": 175,
   "metadata": {},
   "outputs": [
    {
     "name": "stdout",
     "output_type": "stream",
     "text": [
      "['0Z/2021', '02/2021', 'AB/2021', 'Z0/2021', '01/2022', '12/2021', 'EF/2023']\n",
      "['02/2021', '01/2022', '12/2021']\n"
     ]
    }
   ],
   "source": [
    "texto = '0Z/20211.111,1102/2021222,22AB/20213,33Z0/20214,4401/20221000,7812/2021999,56DEF/20231.000,00'\n",
    "\n",
    "# print(re.findall(r'../....', texto))\n",
    "print(re.findall(r'../202[1-9]', texto))\n",
    "print(re.findall(r'[0-9DF]{2}/202.', texto))\n",
    "\n",
    "# print(re.split(r'../....', texto))"
   ]
  },
  {
   "cell_type": "code",
   "execution_count": 176,
   "metadata": {},
   "outputs": [],
   "source": [
    "rec = \"\"\"Total de Receitas Brutas (R$) Mercado Interno Mercado Externo Total\n",
    "Receita Bruta do PA (RPA) - Competência 74.228,00 0,00 74.228,00\n",
    "Receita bruta acumulada nos doze meses anteriores ao PA\n",
    "(RBT12) 410.725,00 0,00 410.725,00\n",
    "Receita bruta acumulada nos doze meses anteriores ao PA\n",
    "proporcionalizada (RBT12p)\n",
    "Receita bruta acumulada no ano-calendário corrente (RBA) 484.953,00 0,00 484.953,00\n",
    "Receita bruta acumulada no ano-calendário anterior\n",
    "(RBAA) 47.960,00 0,00 47.960,00\n",
    "Limite de receita bruta proporcionalizado 4.800.000,00 4.800.000,00\"\"\"\n",
    "\n",
    "tx = \"\"\"2.2.1) Mercado Interno\n",
    "01/2021 47.960,00 02/2021 0,00 03/2021 0,00 04/2021 0,00\n",
    "05/2021 0,00 06/2021 0,00 07/2021 0,00 08/2021 0,00\n",
    "09/2021 0,00 10/2021 0,00 11/2021 0,00 12/2021 0,00\n",
    "01/2022 21.400,00 02/2022 51.400,00 03/2022 80.700,00 04/2022 111.100,00\n",
    "05/2022 146.125,00\"\"\".replace('\\n', ' ').replace('.','').replace(',','.').replace(' ','')\n",
    "\n",
    "mi = re.findall(r'([0-9]{2}/[0-9]{4})([0-9]+\\.[0-9]{2})', tx)\n",
    "\n",
    "tx = \"\"\"2.2.2) Mercado Externo\n",
    "01/2021 300,47 02/2021 100,00 03/2021 0,00 04/2021 0,00\n",
    "05/2021 0,00 06/2021 0,00 07/2021 0,00 08/2021 0,00\n",
    "09/2021 100.000,98 10/2021 0,00 11/2021 0,00 12/2021 0,00\n",
    "01/2022 0,00 02/2022 0,00 03/2022 0,00 04/2022 300,50\n",
    "05/2022 0,00\"\"\".replace('\\n', ' ').replace('.','').replace(',','.').replace(' ','')\n",
    "\n",
    "me = re.findall(r'([0-9]{2}/[0-9]{4})([0-9]+\\.[0-9]{2})', tx)\n",
    "\n",
    "# print(x)\n",
    "# for i in mi:\n",
    "#     dt, vl = i\n",
    "\n",
    "#     print('{} é a data e {:.2f} é o valor' .format(dt, float(vl)))\n"
   ]
  },
  {
   "cell_type": "code",
   "execution_count": 177,
   "metadata": {},
   "outputs": [
    {
     "name": "stdout",
     "output_type": "stream",
     "text": [
      "[('01/2021', '47960.00'), ('02/2021', '0.00'), ('03/2021', '0.00'), ('04/2021', '0.00'), ('05/2021', '0.00'), ('06/2021', '0.00'), ('07/2021', '0.00'), ('08/2021', '0.00'), ('09/2021', '0.00'), ('10/2021', '0.00'), ('11/2021', '0.00'), ('12/2021', '0.00'), ('01/2022', '21400.00'), ('02/2022', '51400.00'), ('03/2022', '80700.00'), ('04/2022', '111100.00'), ('05/2022', '146125.00')]\n"
     ]
    }
   ],
   "source": [
    "print(mi)"
   ]
  },
  {
   "cell_type": "code",
   "execution_count": 144,
   "metadata": {},
   "outputs": [],
   "source": [
    "import pandas as pd\n",
    "\n",
    "dfMI = pd.DataFrame(mi, columns=['DT_REF', 'VL_MI'])\n",
    "dfME = pd.DataFrame(me, columns=['DT_REF', 'VL_ME'])\n",
    "\n",
    "dfMI.set_index('DT_REF', inplace=True)\n",
    "dfME.set_index('DT_REF', inplace=True)\n",
    "\n",
    "df = dfMI.join(dfME)\n",
    "\n",
    "df = df.apply(pd.to_numeric, errors='coerce')"
   ]
  },
  {
   "cell_type": "code",
   "execution_count": 145,
   "metadata": {},
   "outputs": [
    {
     "data": {
      "text/html": [
       "<div>\n",
       "<style scoped>\n",
       "    .dataframe tbody tr th:only-of-type {\n",
       "        vertical-align: middle;\n",
       "    }\n",
       "\n",
       "    .dataframe tbody tr th {\n",
       "        vertical-align: top;\n",
       "    }\n",
       "\n",
       "    .dataframe thead th {\n",
       "        text-align: right;\n",
       "    }\n",
       "</style>\n",
       "<table border=\"1\" class=\"dataframe\">\n",
       "  <thead>\n",
       "    <tr style=\"text-align: right;\">\n",
       "      <th></th>\n",
       "      <th>VL_MI</th>\n",
       "      <th>VL_ME</th>\n",
       "      <th>VL_TOTAL</th>\n",
       "    </tr>\n",
       "    <tr>\n",
       "      <th>DT_REF</th>\n",
       "      <th></th>\n",
       "      <th></th>\n",
       "      <th></th>\n",
       "    </tr>\n",
       "  </thead>\n",
       "  <tbody>\n",
       "    <tr>\n",
       "      <th>01/2021</th>\n",
       "      <td>47960.0</td>\n",
       "      <td>300.47</td>\n",
       "      <td>48260.47</td>\n",
       "    </tr>\n",
       "    <tr>\n",
       "      <th>02/2021</th>\n",
       "      <td>0.0</td>\n",
       "      <td>100.00</td>\n",
       "      <td>100.00</td>\n",
       "    </tr>\n",
       "    <tr>\n",
       "      <th>03/2021</th>\n",
       "      <td>0.0</td>\n",
       "      <td>0.00</td>\n",
       "      <td>0.00</td>\n",
       "    </tr>\n",
       "    <tr>\n",
       "      <th>04/2021</th>\n",
       "      <td>0.0</td>\n",
       "      <td>0.00</td>\n",
       "      <td>0.00</td>\n",
       "    </tr>\n",
       "    <tr>\n",
       "      <th>05/2021</th>\n",
       "      <td>0.0</td>\n",
       "      <td>0.00</td>\n",
       "      <td>0.00</td>\n",
       "    </tr>\n",
       "    <tr>\n",
       "      <th>06/2021</th>\n",
       "      <td>0.0</td>\n",
       "      <td>0.00</td>\n",
       "      <td>0.00</td>\n",
       "    </tr>\n",
       "    <tr>\n",
       "      <th>07/2021</th>\n",
       "      <td>0.0</td>\n",
       "      <td>0.00</td>\n",
       "      <td>0.00</td>\n",
       "    </tr>\n",
       "    <tr>\n",
       "      <th>08/2021</th>\n",
       "      <td>0.0</td>\n",
       "      <td>0.00</td>\n",
       "      <td>0.00</td>\n",
       "    </tr>\n",
       "    <tr>\n",
       "      <th>09/2021</th>\n",
       "      <td>0.0</td>\n",
       "      <td>100000.98</td>\n",
       "      <td>100000.98</td>\n",
       "    </tr>\n",
       "    <tr>\n",
       "      <th>10/2021</th>\n",
       "      <td>0.0</td>\n",
       "      <td>0.00</td>\n",
       "      <td>0.00</td>\n",
       "    </tr>\n",
       "    <tr>\n",
       "      <th>11/2021</th>\n",
       "      <td>0.0</td>\n",
       "      <td>0.00</td>\n",
       "      <td>0.00</td>\n",
       "    </tr>\n",
       "    <tr>\n",
       "      <th>12/2021</th>\n",
       "      <td>0.0</td>\n",
       "      <td>0.00</td>\n",
       "      <td>0.00</td>\n",
       "    </tr>\n",
       "    <tr>\n",
       "      <th>01/2022</th>\n",
       "      <td>21400.0</td>\n",
       "      <td>0.00</td>\n",
       "      <td>21400.00</td>\n",
       "    </tr>\n",
       "    <tr>\n",
       "      <th>02/2022</th>\n",
       "      <td>51400.0</td>\n",
       "      <td>0.00</td>\n",
       "      <td>51400.00</td>\n",
       "    </tr>\n",
       "    <tr>\n",
       "      <th>03/2022</th>\n",
       "      <td>80700.0</td>\n",
       "      <td>0.00</td>\n",
       "      <td>80700.00</td>\n",
       "    </tr>\n",
       "    <tr>\n",
       "      <th>04/2022</th>\n",
       "      <td>111100.0</td>\n",
       "      <td>300.50</td>\n",
       "      <td>111400.50</td>\n",
       "    </tr>\n",
       "    <tr>\n",
       "      <th>05/2022</th>\n",
       "      <td>146125.0</td>\n",
       "      <td>0.00</td>\n",
       "      <td>146125.00</td>\n",
       "    </tr>\n",
       "  </tbody>\n",
       "</table>\n",
       "</div>"
      ],
      "text/plain": [
       "            VL_MI      VL_ME   VL_TOTAL\n",
       "DT_REF                                 \n",
       "01/2021   47960.0     300.47   48260.47\n",
       "02/2021       0.0     100.00     100.00\n",
       "03/2021       0.0       0.00       0.00\n",
       "04/2021       0.0       0.00       0.00\n",
       "05/2021       0.0       0.00       0.00\n",
       "06/2021       0.0       0.00       0.00\n",
       "07/2021       0.0       0.00       0.00\n",
       "08/2021       0.0       0.00       0.00\n",
       "09/2021       0.0  100000.98  100000.98\n",
       "10/2021       0.0       0.00       0.00\n",
       "11/2021       0.0       0.00       0.00\n",
       "12/2021       0.0       0.00       0.00\n",
       "01/2022   21400.0       0.00   21400.00\n",
       "02/2022   51400.0       0.00   51400.00\n",
       "03/2022   80700.0       0.00   80700.00\n",
       "04/2022  111100.0     300.50  111400.50\n",
       "05/2022  146125.0       0.00  146125.00"
      ]
     },
     "execution_count": 145,
     "metadata": {},
     "output_type": "execute_result"
    }
   ],
   "source": [
    "df['VL_TOTAL'] = df['VL_MI'] + df['VL_ME']\n",
    "df"
   ]
  },
  {
   "cell_type": "code",
   "execution_count": 151,
   "metadata": {},
   "outputs": [
    {
     "name": "stdout",
     "output_type": "stream",
     "text": [
      "2022-07-24\n"
     ]
    }
   ],
   "source": [
    "#Configurar Data no formato americano\n",
    "\n",
    "import datetime as dt\n",
    "\n",
    "data = dt.datetime.today().date()\n",
    "\n",
    "print(data)\n"
   ]
  },
  {
   "cell_type": "code",
   "execution_count": 167,
   "metadata": {},
   "outputs": [
    {
     "name": "stdout",
     "output_type": "stream",
     "text": [
      "2022-01-01\n"
     ]
    }
   ],
   "source": [
    "txData = '01/2022'          # >>> 2022-01-01\n",
    "\n",
    "data = dt.datetime.strptime('01/' + txData, \"%d/%m/%Y\").date()\n",
    "print(data)\n"
   ]
  }
 ],
 "metadata": {
  "kernelspec": {
   "display_name": "Python 3.9.7 ('_venv': venv)",
   "language": "python",
   "name": "python3"
  },
  "language_info": {
   "codemirror_mode": {
    "name": "ipython",
    "version": 3
   },
   "file_extension": ".py",
   "mimetype": "text/x-python",
   "name": "python",
   "nbconvert_exporter": "python",
   "pygments_lexer": "ipython3",
   "version": "3.9.7"
  },
  "orig_nbformat": 4,
  "vscode": {
   "interpreter": {
    "hash": "dc000c7569cbace30a78627ca758346283be61a73d54e98b73b90c3012f99451"
   }
  }
 },
 "nbformat": 4,
 "nbformat_minor": 2
}
