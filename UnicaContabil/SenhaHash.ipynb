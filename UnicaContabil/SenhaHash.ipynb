{
 "cells": [
  {
   "cell_type": "code",
   "execution_count": 1,
   "metadata": {},
   "outputs": [],
   "source": [
    "from cryptography.fernet import Fernet as f"
   ]
  },
  {
   "cell_type": "code",
   "execution_count": 67,
   "metadata": {},
   "outputs": [
    {
     "name": "stdout",
     "output_type": "stream",
     "text": [
      "prPj88B_5m2R9bkY1igkq-BPoESPwvYDyyK4BFxTUm4=\n",
      "gAAAAABixJOBwe3cDl1_B9IOplcyOfff0hurTSHKZcTEghA0QiYbF6QhuOOjUWPtgyMbwbwjI9evZ5HV585IpUJNK6dAof8C-g==\n"
     ]
    }
   ],
   "source": [
    "key = f.generate_key()\n",
    "token = f(key).encrypt(b'nfunica123')\n",
    "print(key.decode())\n",
    "print(token.decode())"
   ]
  },
  {
   "cell_type": "code",
   "execution_count": 70,
   "metadata": {},
   "outputs": [
    {
     "name": "stdout",
     "output_type": "stream",
     "text": [
      "nfunica123\n"
     ]
    }
   ],
   "source": [
    "key = \"prPj88B_5m2R9bkY1igkq-BPoESPwvYDyyK4BFxTUm4=\"\n",
    "token = \"gAAAAABixJOBwe3cDl1_B9IOplcyOfff0hurTSHKZcTEghA0QiYbF6QhuOOjUWPtgyMbwbwjI9evZ5HV585IpUJNK6dAof8C-g==\"\n",
    "senha = f(key).decrypt(token.encode()).decode()\n",
    "print(senha) \n"
   ]
  },
  {
   "cell_type": "code",
   "execution_count": null,
   "metadata": {},
   "outputs": [],
   "source": [
    "# fdksjfds\n"
   ]
  }
 ],
 "metadata": {
  "kernelspec": {
   "display_name": "Python 3.9.7 ('venv': venv)",
   "language": "python",
   "name": "python3"
  },
  "language_info": {
   "codemirror_mode": {
    "name": "ipython",
    "version": 3
   },
   "file_extension": ".py",
   "mimetype": "text/x-python",
   "name": "python",
   "nbconvert_exporter": "python",
   "pygments_lexer": "ipython3",
   "version": "3.9.7"
  },
  "orig_nbformat": 4,
  "vscode": {
   "interpreter": {
    "hash": "ae5d327a9bf26ba84a71055bc2f0cda478f617c947fab627f47607e04fb88409"
   }
  }
 },
 "nbformat": 4,
 "nbformat_minor": 2
}
