{
 "cells": [
  {
   "cell_type": "code",
   "execution_count": 12,
   "metadata": {},
   "outputs": [
    {
     "name": "stdout",
     "output_type": "stream",
     "text": [
      "Fechado\n",
      "0.073\n"
     ]
    }
   ],
   "source": [
    "import pymysql\n",
    "\n",
    "con = pymysql.connect(\n",
    "    host='localhost',\n",
    "    user='master',\n",
    "    password='123456',\n",
    "    database='unicacontabil',\n",
    "    cursorclass = pymysql.cursors.DictCursor\n",
    ")\n",
    "\n",
    "tpdoc = 'Anexo 1'\n",
    "rec = 230000.00\n",
    "\n",
    "sql = \"SELECT * FROM aliquotas a WHERE a.TP_DOC = '{}' AND {} BETWEEN a.DE AND a.ATE\".format(tpdoc, rec)\n",
    "\n",
    "c = con.cursor()\n",
    "\n",
    "c.execute(sql)\n",
    "\n",
    "# r = c.fetchall()\n",
    "r = c.fetchone()\n",
    "\n",
    "\n",
    "c.close()\n",
    "if con.open:\n",
    "    con.close()\n",
    "    print('Fechado')\n",
    "\n",
    "print(r['ALIQUOTA'])\n"
   ]
  }
 ],
 "metadata": {
  "kernelspec": {
   "display_name": "Python 3.9.7 ('_venv': venv)",
   "language": "python",
   "name": "python3"
  },
  "language_info": {
   "codemirror_mode": {
    "name": "ipython",
    "version": 3
   },
   "file_extension": ".py",
   "mimetype": "text/x-python",
   "name": "python",
   "nbconvert_exporter": "python",
   "pygments_lexer": "ipython3",
   "version": "3.9.7"
  },
  "orig_nbformat": 4,
  "vscode": {
   "interpreter": {
    "hash": "dc000c7569cbace30a78627ca758346283be61a73d54e98b73b90c3012f99451"
   }
  }
 },
 "nbformat": 4,
 "nbformat_minor": 2
}
