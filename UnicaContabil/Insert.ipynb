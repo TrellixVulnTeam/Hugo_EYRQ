{
 "cells": [
  {
   "cell_type": "code",
   "execution_count": 1,
   "metadata": {},
   "outputs": [],
   "source": [
    "import pymysql"
   ]
  },
  {
   "cell_type": "code",
   "execution_count": 52,
   "metadata": {},
   "outputs": [],
   "source": [
    "con = pymysql.connect(\n",
    "    host='localhost',\n",
    "    user='master',\n",
    "    password='123456',\n",
    "    database='unicacontabil'\n",
    ")"
   ]
  },
  {
   "cell_type": "code",
   "execution_count": 65,
   "metadata": {},
   "outputs": [
    {
     "name": "stdout",
     "output_type": "stream",
     "text": [
      "Exception raised for errors that are related to the database\n",
      "    interface rather than the database itself.\n"
     ]
    }
   ],
   "source": [
    "# Insert\n",
    "\n",
    "sql = \"INSERT INTO histreceitasbrutas (CNPJ, DT_COMPETENCIA, VL_MI, VL_ME) VALUES ('12.100.000-1111-32', '2022-05-01', 1000.89, 200.67)\"\n",
    "\n",
    "try:\n",
    "    c = con.cursor()\n",
    "    c.execute(sql)\n",
    "    con.commit()\n",
    "except Exception as e:\n",
    "    print(e.__doc__)\n",
    "finally:\n",
    "    c.close()\n",
    "    if con.open:\n",
    "        con.close()\n",
    "        print('Fechado')"
   ]
  },
  {
   "cell_type": "code",
   "execution_count": null,
   "metadata": {},
   "outputs": [],
   "source": [
    "# sql = \"SELECT * FROM histreceitasbrutas\"\n",
    "\n",
    "# c = con.cursor()\n",
    "\n",
    "# c.execute(sql)\n",
    "# res = c.fetchall() # Método fetchall(): retorna todas as linhas obtidas \n",
    "\n",
    "# print(res)"
   ]
  }
 ],
 "metadata": {
  "kernelspec": {
   "display_name": "Python 3.9.7 ('_venv': venv)",
   "language": "python",
   "name": "python3"
  },
  "language_info": {
   "codemirror_mode": {
    "name": "ipython",
    "version": 3
   },
   "file_extension": ".py",
   "mimetype": "text/x-python",
   "name": "python",
   "nbconvert_exporter": "python",
   "pygments_lexer": "ipython3",
   "version": "3.9.7"
  },
  "orig_nbformat": 4,
  "vscode": {
   "interpreter": {
    "hash": "dc000c7569cbace30a78627ca758346283be61a73d54e98b73b90c3012f99451"
   }
  }
 },
 "nbformat": 4,
 "nbformat_minor": 2
}
