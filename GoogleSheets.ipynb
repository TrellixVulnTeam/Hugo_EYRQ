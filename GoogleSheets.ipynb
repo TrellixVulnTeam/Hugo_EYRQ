{
 "cells": [
  {
   "cell_type": "code",
   "execution_count": null,
   "metadata": {},
   "outputs": [],
   "source": [
    "# https://console.cloud.google.com\n",
    "\n",
    "# Criar projeto\n",
    "\n",
    "# Ativar API's Google Driver e Google Sheets\n",
    "\n",
    "# Criar permissao OAuth\n",
    "\n",
    "# Documentacao: https://developers.google.com/sheets/api/quickstart/python\n",
    "\n",
    "\n"
   ]
  }
 ],
 "metadata": {
  "language_info": {
   "name": "python"
  },
  "orig_nbformat": 4
 },
 "nbformat": 4,
 "nbformat_minor": 2
}
